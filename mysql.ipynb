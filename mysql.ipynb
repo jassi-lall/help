{
 "cells": [
  {
   "attachments": {},
   "cell_type": "markdown",
   "id": "816d0579-e50c-4062-b85b-f74fe3a2cf2b",
   "metadata": {},
   "source": [
    "# MySQL cheat sheet\n",
    "- mysql downloads: https://dev.mysql.com/downloads/ includes mysql server software, python connector, shell and workbench\n",
    "- mysql docs: https://dev.mysql.com/doc/\n",
    "\n",
    "## Start/Stop server\n",
    "Win+R $\\rightarrow$ services.msc $\\rightarrow$ Locate server name (default: MySQL80)\n",
    "\n",
    "## Connect with the server\n",
    "Use Workbench\n",
    "\n",
    "## View Schema, tables, and columns\n",
    "In workbench select Schemeas for more information. *Schemea* = Dataset of *Tables* that are related. View columns of a *table* in workbench.\n",
    "\n",
    "## Connect via Shell\n",
    "### cmd\n",
    "mysql -u username -p schemea\n",
    "### mysql shell\n",
    "Win+R $\\rightarrow$ cmd $\\rightarrow$ mysqlsh --mysql --uri username@localhost:3306 <br>\n",
    "The shell has a sql, python, and js mode.\n",
    "### VSCode extension\n",
    "Use the extension by oracle. Added benefit of autocompletion\n",
    "\n",
    "## Connect via python / jupyter\n",
    "Install python connector via pip and see mysql [docs](https://dev.mysql.com/doc/connector-python). It is very well documented.\n",
    "```python\n",
    "import mysql.connector\n",
    "\n",
    "config = {\n",
    "  'user': 'root',\n",
    "  'password': 'satnam',\n",
    "  'host': '127.0.0.1',\n",
    "  'database': 'schema',\n",
    "  'raise_on_warnings': True\n",
    "}\n",
    "\n",
    "cnx = mysql.connector.connect(**config)\n",
    "\n",
    "cnx.close()\n",
    "```\n"
   ]
  }
 ],
 "metadata": {
  "kernelspec": {
   "display_name": "Python 3 (ipykernel)",
   "language": "python",
   "name": "python3"
  },
  "language_info": {
   "codemirror_mode": {
    "name": "ipython",
    "version": 3
   },
   "file_extension": ".py",
   "mimetype": "text/x-python",
   "name": "python",
   "nbconvert_exporter": "python",
   "pygments_lexer": "ipython3",
   "version": "3.11.3"
  }
 },
 "nbformat": 4,
 "nbformat_minor": 5
}
